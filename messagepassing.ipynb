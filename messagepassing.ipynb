{
 "cells": [
  {
   "cell_type": "code",
   "execution_count": 1,
   "metadata": {},
   "outputs": [],
   "source": [
    "import numpy as np\n",
    "from scipy . stats import truncnorm"
   ]
  },
  {
   "cell_type": "code",
   "execution_count": 4,
   "metadata": {},
   "outputs": [],
   "source": [
    "#functions from exercise 7.2\n",
    "def mutiplyGauss(m1 , s1 , m2 , s2):\n",
    "    s = 1/(1/s1+1/s2)\n",
    "    m = (m1/s1+m2/s2)*s\n",
    "    return m, s\n",
    "\n",
    "\n",
    "def divideGauss (m1 , s1 , m2 , s2):\n",
    "    m, s = mutiplyGauss (m1 , s1 , m2 , -s2)\n",
    "    return m, s"
   ]
  },
  {
   "cell_type": "code",
   "execution_count": 14,
   "metadata": {},
   "outputs": [],
   "source": [
    "#given prior distributions for skills s1 and s2, as well as the result from the match between them,\n",
    "#this function does all the neccessary message passing and returns the posteriors.\n",
    "def messagepassing(prior_mean_s1, prior_var_s1, prior_mean_s2, prior_var_s2, y):\n",
    "\n",
    "    var_t = 1\n",
    "    \n",
    "    #message from factor node to T:\n",
    "    mu2_mean = prior_mean_s1 - prior_mean_s2\n",
    "    mu2_var = prior_var_s1 + prior_var_s2 + var_t\n",
    "\n",
    "    #effect of dirac depending on y 1/0:\n",
    "    if y == 0:\n",
    "        a, b = np.NINF, 0\n",
    "    elif y == 1:\n",
    "        a, b = 0, np.Inf\n",
    "\n",
    "    #truncate gaussian\n",
    "    a_scaled , b_scaled = (a - mu2_mean) / np.sqrt(mu2_var), (b - mu2_mean) / np.sqrt(mu2_var)\n",
    "    trunc_m = truncnorm.mean(a_scaled , b_scaled , loc=mu2_mean , scale=np.sqrt(mu2_var))\n",
    "    trunc_s = truncnorm.var(a_scaled , b_scaled , loc=mu2_mean , scale=np.sqrt(mu2_var))\n",
    "\n",
    "    #Messages going back from t all the way back to s1, s2:\n",
    "\n",
    "    mu5_mean, mu5_var = divideGauss(trunc_m, trunc_s, mu2_mean, mu2_var)\n",
    "\n",
    "    mu6_1_mean = mu5_mean + prior_mean_s2\n",
    "    mu6_2_mean = -mu5_mean + prior_mean_s1\n",
    "    mu6_1_var = mu5_var + prior_var_s2 + var_t\n",
    "    mu6_2_var = mu5_var + prior_var_s1 + var_t\n",
    "\n",
    "    updated_mean_s1, updated_var_s1 = mutiplyGauss(prior_mean_s1, prior_var_s1, mu6_1_mean, mu6_1_var)\n",
    "    updated_mean_s2, updated_var_s2 = mutiplyGauss(prior_mean_s2, prior_var_s2, mu6_2_mean, mu6_2_var)\n",
    "    \n",
    "    return updated_mean_s1, updated_var_s1, updated_mean_s2, updated_var_s2"
   ]
  },
  {
   "cell_type": "code",
   "execution_count": 20,
   "metadata": {},
   "outputs": [
    {
     "name": "stdout",
     "output_type": "stream",
     "text": [
      "26.581909040411844\n",
      "5.830897121196615\n",
      "23.41809095958816\n",
      "5.830897121196615\n",
      "50.0\n"
     ]
    }
   ],
   "source": [
    "S1_mean = 25\n",
    "S1_var = 25/3\n",
    "S2_mean = 25\n",
    "S2_var = 25/3\n",
    "y = 1\n",
    "\n",
    "S1_mean_n, S1_var_n, S2_mean_n, S2_var_n = messagepassing(S1_mean, S1_var, S2_mean, S2_var, y)\n",
    "print(S1_mean_n)\n",
    "print(S1_var_n)\n",
    "print(S2_mean_n)\n",
    "print(S2_var_n)\n",
    "print(S1_mean_n + S2_mean_n)\n"
   ]
  },
  {
   "cell_type": "code",
   "execution_count": null,
   "metadata": {},
   "outputs": [],
   "source": []
  }
 ],
 "metadata": {
  "kernelspec": {
   "display_name": "base",
   "language": "python",
   "name": "python3"
  },
  "language_info": {
   "codemirror_mode": {
    "name": "ipython",
    "version": 3
   },
   "file_extension": ".py",
   "mimetype": "text/x-python",
   "name": "python",
   "nbconvert_exporter": "python",
   "pygments_lexer": "ipython3",
   "version": "3.9.7"
  },
  "orig_nbformat": 4
 },
 "nbformat": 4,
 "nbformat_minor": 2
}
